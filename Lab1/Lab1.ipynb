{
 "cells": [
  {
   "cell_type": "markdown",
   "metadata": {},
   "source": [
    "## Numpy CRUD"
   ]
  },
  {
   "cell_type": "code",
   "execution_count": 62,
   "metadata": {},
   "outputs": [],
   "source": [
    "import numpy as np"
   ]
  },
  {
   "cell_type": "markdown",
   "metadata": {},
   "source": [
    "#### Create - створення"
   ]
  },
  {
   "cell_type": "code",
   "execution_count": 63,
   "metadata": {},
   "outputs": [
    {
     "name": "stdout",
     "output_type": "stream",
     "text": [
      "Масив за допомогою arange: [0 1 2 3 4 5 6 7 8 9]\n",
      "Випадковий масив: [79 63 64 68 64 35 89 79  4  3]\n",
      "\n",
      "Оригінальний вектор: [1 2 3 4 5]\n",
      "Оригінальна матриця:\n",
      " [[1 2]\n",
      " [3 4]\n",
      " [5 6]]\n"
     ]
    }
   ],
   "source": [
    "# Створення даних за допомогою arange\n",
    "array_arange = np.arange(10) \n",
    "print(\"Масив за допомогою arange:\", array_arange)\n",
    "\n",
    "# Створення випадкових даних за допомогою random\n",
    "array_random = np.random.randint(0, 100, 10) \n",
    "print(\"Випадковий масив:\", array_random)\n",
    "\n",
    "\n",
    "# Create - створення додаткового масиву\n",
    "vector = np.array([1, 2, 3, 4, 5])\n",
    "print(\"\\nОригінальний вектор:\", vector)\n",
    "\n",
    "matrix = np.array([[1, 2], [3, 4], [5, 6]])\n",
    "print(\"Оригінальна матриця:\\n\", matrix)\n"
   ]
  },
  {
   "cell_type": "markdown",
   "metadata": {},
   "source": [
    "#### Read - читання"
   ]
  },
  {
   "cell_type": "code",
   "execution_count": 64,
   "metadata": {},
   "outputs": [
    {
     "name": "stdout",
     "output_type": "stream",
     "text": [
      "\n",
      "Скалярний елемент з вектора: 1\n",
      "Підмножина вектора: [2 3 4]\n",
      "Підмножина матриці (перший стовпець без першого рядка): [3 5]\n"
     ]
    }
   ],
   "source": [
    "# Read - читання елементів\n",
    "scalar = vector[0]\n",
    "print(\"\\nСкалярний елемент з вектора:\", scalar)\n",
    "\n",
    "sub_vector = vector[1:4]\n",
    "print(\"Підмножина вектора:\", sub_vector)\n",
    "\n",
    "sub_matrix = matrix[1:, 0]\n",
    "print(\"Підмножина матриці (перший стовпець без першого рядка):\", sub_matrix)"
   ]
  },
  {
   "cell_type": "markdown",
   "metadata": {},
   "source": [
    "#### Update - оновлення"
   ]
  },
  {
   "cell_type": "code",
   "execution_count": 65,
   "metadata": {},
   "outputs": [
    {
     "name": "stdout",
     "output_type": "stream",
     "text": [
      "\n",
      "Оновлений вектор (змінений перший елемент): [10  2  3  4  5]\n",
      "Оновлена матриця (змінений елемент у другому рядку, другому стовпці):\n",
      " [[ 1  2]\n",
      " [ 3 40]\n",
      " [ 5  6]]\n"
     ]
    }
   ],
   "source": [
    "# Update - оновлення елементів\n",
    "vector[0] = 10\n",
    "print(\"\\nОновлений вектор (змінений перший елемент):\", vector)\n",
    "\n",
    "matrix[1, 1] = 40\n",
    "print(\"Оновлена матриця (змінений елемент у другому рядку, другому стовпці):\\n\", matrix)\n",
    "    "
   ]
  },
  {
   "cell_type": "markdown",
   "metadata": {},
   "source": [
    "#### Delete - виделення"
   ]
  },
  {
   "cell_type": "code",
   "execution_count": 66,
   "metadata": {},
   "outputs": [
    {
     "name": "stdout",
     "output_type": "stream",
     "text": [
      "\n",
      "Вектор після видалення перших двох елементів: [3 4 5]\n",
      "Матриця після видалення першого рядка:\n",
      " [[ 3 40]\n",
      " [ 5  6]]\n"
     ]
    }
   ],
   "source": [
    "# Delete - видалення елементів \n",
    "vector = np.delete(vector, [0,1])  # видалення перших двох елементів\n",
    "print(\"\\nВектор після видалення перших двох елементів:\", vector)\n",
    "\n",
    "matrix = np.delete(matrix, 0, axis=0)  # видалення першого рядка\n",
    "print(\"Матриця після видалення першого рядка:\\n\", matrix)\n"
   ]
  },
  {
   "cell_type": "markdown",
   "metadata": {},
   "source": [
    "## Pandas"
   ]
  },
  {
   "cell_type": "code",
   "execution_count": 67,
   "metadata": {},
   "outputs": [],
   "source": [
    "import pandas as pd"
   ]
  },
  {
   "cell_type": "markdown",
   "metadata": {},
   "source": [
    "#### Створити dataframe різними способами\n",
    "\n"
   ]
  },
  {
   "cell_type": "code",
   "execution_count": 68,
   "metadata": {},
   "outputs": [
    {
     "name": "stdout",
     "output_type": "stream",
     "text": [
      "DataFrame зі словника:\n",
      "    A  B\n",
      "0  1  a\n",
      "1  2  b\n",
      "2  3  c\n",
      "DataFrame з numpy масиву:\n",
      "    Random Numbers\n",
      "0              79\n",
      "1              63\n",
      "2              64\n",
      "3              68\n",
      "4              64\n",
      "5              35\n",
      "6              89\n",
      "7              79\n",
      "8               4\n",
      "9               3\n"
     ]
    }
   ],
   "source": [
    "# Створення DataFrame зі словника\n",
    "df1 = pd.DataFrame({\n",
    "    'A': [1, 2, 3],\n",
    "    'B': ['a', 'b', 'c']\n",
    "})\n",
    "print(\"DataFrame зі словника:\\n\", df1)\n",
    "# Створення DataFrame з numpy масиву\n",
    "df2 = pd.DataFrame(array_random, columns=['Random Numbers'])\n",
    "print(\"DataFrame з numpy масиву:\\n\", df2)"
   ]
  },
  {
   "cell_type": "markdown",
   "metadata": {},
   "source": [
    "#### Маніпуляції з даними"
   ]
  },
  {
   "cell_type": "code",
   "execution_count": 69,
   "metadata": {},
   "outputs": [
    {
     "name": "stdout",
     "output_type": "stream",
     "text": [
      "   A  B\n",
      "0  1  a\n",
      "1  2  b\n",
      "//////////////////////////////\n",
      "         A\n",
      "count  3.0\n",
      "mean   2.0\n",
      "std    1.0\n",
      "min    1.0\n",
      "25%    1.5\n",
      "50%    2.0\n",
      "75%    2.5\n",
      "max    3.0\n",
      "//////////////////////////////\n",
      "A    1\n",
      "B    a\n",
      "Name: 0, dtype: object\n",
      "//////////////////////////////\n",
      "1\n"
     ]
    }
   ],
   "source": [
    "# Вивід перших рядків\n",
    "print(df1.head(2))\n",
    "print(\"//////////////////////////////\")\n",
    "\n",
    "# Опис статистичних показників\n",
    "print(df1.describe())\n",
    "\n",
    "# Індексація за допомогою iloc та loc\n",
    "print(\"//////////////////////////////\")\n",
    "print(df1.iloc[0])  # перший рядок\n",
    "print(\"//////////////////////////////\")\n",
    "\n",
    "print(df1.loc[0, 'A'])  # перший рядок, стовпець A\n"
   ]
  },
  {
   "cell_type": "markdown",
   "metadata": {},
   "source": [
    "## Matplotlib"
   ]
  },
  {
   "cell_type": "code",
   "execution_count": 70,
   "metadata": {},
   "outputs": [
    {
     "name": "stdout",
     "output_type": "stream",
     "text": [
      "X (діапазон значень): [0.  0.1 0.2 0.3 0.4 0.5 0.6 0.7 0.8 0.9 1.  1.1 1.2 1.3 1.4 1.5 1.6 1.7\n",
      " 1.8 1.9 2.  2.1 2.2 2.3 2.4 2.5 2.6 2.7 2.8 2.9 3.  3.1 3.2 3.3 3.4 3.5\n",
      " 3.6 3.7 3.8 3.9 4.  4.1 4.2 4.3 4.4 4.5 4.6 4.7 4.8 4.9 5.  5.1 5.2 5.3\n",
      " 5.4 5.5 5.6 5.7 5.8 5.9 6.  6.1 6.2 6.3 6.4 6.5 6.6 6.7 6.8 6.9 7.  7.1\n",
      " 7.2 7.3 7.4 7.5 7.6 7.7 7.8 7.9 8.  8.1 8.2 8.3 8.4 8.5 8.6 8.7 8.8 8.9\n",
      " 9.  9.1 9.2 9.3 9.4 9.5 9.6 9.7 9.8 9.9]\n",
      "Y (справжні значення функції): [ 5.   5.2  5.4  5.6  5.8  6.   6.2  6.4  6.6  6.8  7.   7.2  7.4  7.6\n",
      "  7.8  8.   8.2  8.4  8.6  8.8  9.   9.2  9.4  9.6  9.8 10.  10.2 10.4\n",
      " 10.6 10.8 11.  11.2 11.4 11.6 11.8 12.  12.2 12.4 12.6 12.8 13.  13.2\n",
      " 13.4 13.6 13.8 14.  14.2 14.4 14.6 14.8 15.  15.2 15.4 15.6 15.8 16.\n",
      " 16.2 16.4 16.6 16.8 17.  17.2 17.4 17.6 17.8 18.  18.2 18.4 18.6 18.8\n",
      " 19.  19.2 19.4 19.6 19.8 20.  20.2 20.4 20.6 20.8 21.  21.2 21.4 21.6\n",
      " 21.8 22.  22.2 22.4 22.6 22.8 23.  23.2 23.4 23.6 23.8 24.  24.2 24.4\n",
      " 24.6 24.8]\n",
      "Y_noisy (дані з шумом): [ 4.4310021   6.11507395  4.49577581  4.69071296  5.09402455  4.83962133\n",
      "  6.65370693  6.35317663  4.64814119  6.36609588  5.25894651 10.01355279\n",
      "  5.86431064  9.8621748   8.58876899  7.93156246  8.37451781  8.33546593\n",
      "  7.37913444  8.37614822  7.76706825  9.52739818  9.90530044  9.89747475\n",
      "  9.92479217  9.47960071  9.93531697 12.13352997  9.83032003  9.96391054\n",
      " 10.57288372 11.65533198  9.87015389 12.25061696 11.56994543 13.0445001\n",
      " 12.30793001 12.28332482 12.70867323 14.62516804 13.00828519 12.28764615\n",
      " 13.77799758 14.71756932 13.23961771 13.119334   14.56359726 14.06919209\n",
      " 13.48573345 16.20567025 17.1427003  15.12457075 16.53236432 15.35244198\n",
      " 15.32947706 16.46112333 16.26272963 17.18201471 15.96804124 18.23840264\n",
      " 17.41928175 17.71686539 18.32259725 18.69345315 18.79249874 17.67039637\n",
      " 16.90755648 18.54329776 18.94139088 19.56685174 20.04622025 17.89625014\n",
      " 18.01334122 21.84034613 19.43802182 20.9321299  19.30203082 21.77535348\n",
      " 20.79998123 18.54172062 22.74053403 21.29514145 21.9861214  21.94160513\n",
      " 22.02245001 21.97630076 22.50741248 24.32910683 21.63817216 22.85731163\n",
      " 23.77434757 22.5696873  23.92081087 24.16350155 24.15693858 23.17119021\n",
      " 24.16752525 24.46115182 22.76579675 27.31509387]\n"
     ]
    },
    {
     "data": {
      "image/png": "[encoded data removed]",
      "text/plain": [
       "<Figure size 640x480 with 1 Axes>"
      ]
     },
     "metadata": {},
     "output_type": "display_data"
    },
    {
     "name": "stdout",
     "output_type": "stream",
     "text": [
      "\n",
      "Середня абсолютна похибка (MAE): 0.7997207315561928\n",
      "Середньоквадратична похибка (MSE): 1.050733476193785\n",
      "\n",
      "Дані було успішно збережено у 'results.csv'.\n"
     ]
    }
   ],
   "source": [
    "import matplotlib.pyplot as plt\n",
    "\n",
    "# Створення даних лінійної функції з урахуванням помилок вимірювань\n",
    "X = np.arange(0, 10, 0.1)\n",
    "Y = 2 * X + 5\n",
    "noise = np.random.normal(0, 1, X.shape)\n",
    "Y_noisy = Y + noise\n",
    "\n",
    "print(\"X (діапазон значень):\", X)\n",
    "print(\"Y (справжні значення функції):\", Y)\n",
    "print(\"Y_noisy (дані з шумом):\", Y_noisy)\n",
    "\n",
    "# Побудова графіків\n",
    "plt.plot(X, Y, '-r', label='True Function')\n",
    "plt.scatter(X, Y_noisy, color='blue', label='Noisy Data')\n",
    "plt.legend()\n",
    "plt.title(\"Графік лінійної функції та даних із шумом\")\n",
    "plt.xlabel(\"X\")\n",
    "plt.ylabel(\"Y\")\n",
    "plt.show()\n",
    "\n",
    "# Обчислення похибок\n",
    "MAE = np.mean(np.abs(Y_noisy - Y))\n",
    "MSE = np.mean((Y_noisy - Y) ** 2)\n",
    "\n",
    "print(\"\\nСередня абсолютна похибка (MAE):\", MAE)\n",
    "print(\"Середньоквадратична похибка (MSE):\", MSE)\n",
    "\n",
    "# Запис результатів у csv файл\n",
    "results = pd.DataFrame({\n",
    "    'X': X,\n",
    "    'Y': Y,\n",
    "    'Y_hat': Y_noisy,\n",
    "    'MAE': [MAE] * len(X),\n",
    "    'MSE': [MSE] * len(X)\n",
    "})\n",
    "results.to_csv('results.csv', index=False)\n",
    "print(\"\\nДані було успішно збережено у 'results.csv'.\")"
   ]
  }
 ],
 "metadata": {
  "kernelspec": {
   "display_name": "ml2023",
   "language": "python",
   "name": "python3"
  },
  "language_info": {
   "codemirror_mode": {
    "name": "ipython",
    "version": 3
   },
   "file_extension": ".py",
   "mimetype": "text/x-python",
   "name": "python",
   "nbconvert_exporter": "python",
   "pygments_lexer": "ipython3",
   "version": "3.11.5"
  },
  "orig_nbformat": 4
 },
 "nbformat": 4,
 "nbformat_minor": 2
}
