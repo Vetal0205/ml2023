{
 "cells": [
  {
   "cell_type": "code",
   "execution_count": 6,
   "metadata": {},
   "outputs": [],
   "source": [
    "import pandas as pd\n",
    "from sklearn.model_selection import train_test_split\n",
    "from sklearn.neural_network import MLPClassifier\n",
    "from sklearn.multioutput import MultiOutputClassifier\n",
    "from sklearn.metrics import classification_report\n",
    "from sklearn.feature_extraction.text import TfidfVectorizer\n",
    "\n",
    "\n",
    "\n",
    "# Завантаження даних\n",
    "data = pd.read_csv('data.csv')\n",
    "\n",
    "\n",
    "# Очищення даних: видалення HTML тегів, символів пунктуації, перетворення на нижній регістр тощо.\n",
    "data['comment_text'] = data['comment_text'].str.replace('<.*?>', '', regex=True)  # видалення HTML тегів\n",
    "data['comment_text'] = data['comment_text'].str.replace('[^\\w\\s]', '')  # видалення пунктуації\n",
    "data['comment_text'] = data['comment_text'].str.lower()  # перетворення на нижній регістр\n",
    "\n"
   ]
  },
  {
   "cell_type": "code",
   "execution_count": 7,
   "metadata": {},
   "outputs": [],
   "source": [
    "X = data['comment_text']\n",
    "y = data[['toxic', 'severe_toxic', 'obscene', 'threat', 'insult', 'identity_hate']]\n",
    "\n",
    "X_train, X_test, y_train, y_test = train_test_split(X, y, test_size=0.2, random_state=42)\n",
    "\n",
    "vectorizer = TfidfVectorizer(max_features=5000, stop_words='english')\n",
    "X_train = vectorizer.fit_transform(X_train)\n",
    "X_test = vectorizer.transform(X_test)"
   ]
  },
  {
   "cell_type": "code",
   "execution_count": 9,
   "metadata": {},
   "outputs": [],
   "source": [
    "# Використання MLPClassifier у якості основного класифікатора\n",
    "mlp = MLPClassifier(hidden_layer_sizes=(100,), max_iter=10, alpha=1e-4,\n",
    "                    solver='sgd', verbose=10, random_state=1,\n",
    "                    learning_rate_init=.1)\n",
    "\n",
    "multi_target_classifier = MultiOutputClassifier(mlp, n_jobs=-1)\n",
    "multi_target_classifier.fit(X_train, y_train)\n",
    "y_pred = multi_target_classifier.predict(X_test)\n"
   ]
  },
  {
   "cell_type": "code",
   "execution_count": 10,
   "metadata": {},
   "outputs": [
    {
     "name": "stdout",
     "output_type": "stream",
     "text": [
      "Classification Report for toxic:\n",
      "              precision    recall  f1-score   support\n",
      "\n",
      "           0       0.97      0.99      0.98     28859\n",
      "           1       0.88      0.66      0.76      3056\n",
      "\n",
      "    accuracy                           0.96     31915\n",
      "   macro avg       0.92      0.83      0.87     31915\n",
      "weighted avg       0.96      0.96      0.96     31915\n",
      "\n",
      "Classification Report for severe_toxic:\n",
      "              precision    recall  f1-score   support\n",
      "\n",
      "           0       0.99      1.00      1.00     31594\n",
      "           1       0.57      0.26      0.35       321\n",
      "\n",
      "    accuracy                           0.99     31915\n",
      "   macro avg       0.78      0.63      0.67     31915\n",
      "weighted avg       0.99      0.99      0.99     31915\n",
      "\n",
      "Classification Report for obscene:\n",
      "              precision    recall  f1-score   support\n",
      "\n",
      "           0       0.98      0.99      0.99     30200\n",
      "           1       0.88      0.72      0.79      1715\n",
      "\n",
      "    accuracy                           0.98     31915\n",
      "   macro avg       0.93      0.86      0.89     31915\n",
      "weighted avg       0.98      0.98      0.98     31915\n",
      "\n",
      "Classification Report for threat:\n",
      "              precision    recall  f1-score   support\n",
      "\n",
      "           0       1.00      1.00      1.00     31841\n",
      "           1       0.49      0.24      0.32        74\n",
      "\n",
      "    accuracy                           1.00     31915\n",
      "   macro avg       0.74      0.62      0.66     31915\n",
      "weighted avg       1.00      1.00      1.00     31915\n",
      "\n",
      "Classification Report for insult:\n",
      "              precision    recall  f1-score   support\n",
      "\n",
      "           0       0.98      0.99      0.99     30301\n",
      "           1       0.78      0.61      0.69      1614\n",
      "\n",
      "    accuracy                           0.97     31915\n",
      "   macro avg       0.88      0.80      0.84     31915\n",
      "weighted avg       0.97      0.97      0.97     31915\n",
      "\n",
      "Classification Report for identity_hate:\n",
      "              precision    recall  f1-score   support\n",
      "\n",
      "           0       0.99      1.00      1.00     31621\n",
      "           1       0.73      0.25      0.37       294\n",
      "\n",
      "    accuracy                           0.99     31915\n",
      "   macro avg       0.86      0.63      0.68     31915\n",
      "weighted avg       0.99      0.99      0.99     31915\n",
      "\n"
     ]
    }
   ],
   "source": [
    "\n",
    "# Оцінка моделі для кожного лейбла\n",
    "for label in y.columns:\n",
    "    print(f\"Classification Report for {label}:\")\n",
    "    print(classification_report(y_test[label], y_pred[:, y.columns.get_loc(label)]))\n"
   ]
  }
 ],
 "metadata": {
  "kernelspec": {
   "display_name": "ml2023",
   "language": "python",
   "name": "python3"
  },
  "language_info": {
   "codemirror_mode": {
    "name": "ipython",
    "version": 3
   },
   "file_extension": ".py",
   "mimetype": "text/x-python",
   "name": "python",
   "nbconvert_exporter": "python",
   "pygments_lexer": "ipython3",
   "version": "3.11.5"
  }
 },
 "nbformat": 4,
 "nbformat_minor": 2
}
