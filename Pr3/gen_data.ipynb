{
 "cells": [
  {
   "cell_type": "code",
   "execution_count": 9,
   "metadata": {},
   "outputs": [
    {
     "name": "stdout",
     "output_type": "stream",
     "text": [
      "Дані збережено в файл 'data.csv'\n"
     ]
    }
   ],
   "source": [
    "import numpy as np\n",
    "import pandas as pd\n",
    "\n",
    "n = 1000\n",
    "\n",
    "площа = np.random.uniform(50, 200, n)\n",
    "спальні = np.random.randint(1, 6, n)\n",
    "відстань = np.random.uniform(1, 20, n)\n",
    "\n",
    "похибка = np.random.normal(0, 100, n)\n",
    "ціна = 10 * площа + 5 * спальні - 2 * відстань + похибка\n",
    "\n",
    "\n",
    "df = pd.DataFrame({\n",
    "    'Площа': площа,\n",
    "    'Кімнати': спальні,\n",
    "    'Відстань до центру': відстань,\n",
    "    'Ціна': ціна\n",
    "})\n",
    "\n",
    "df.to_csv(\"data.csv\", index=False)\n",
    "\n",
    "print(\"Дані збережено в файл 'data.csv'\")\n"
   ]
  }
 ],
 "metadata": {
  "kernelspec": {
   "display_name": "base",
   "language": "python",
   "name": "python3"
  },
  "language_info": {
   "codemirror_mode": {
    "name": "ipython",
    "version": 3
   },
   "file_extension": ".py",
   "mimetype": "text/x-python",
   "name": "python",
   "nbconvert_exporter": "python",
   "pygments_lexer": "ipython3",
   "version": "3.11.5"
  },
  "orig_nbformat": 4
 },
 "nbformat": 4,
 "nbformat_minor": 2
}
