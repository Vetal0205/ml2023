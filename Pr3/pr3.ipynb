{
 "cells": [
  {
   "cell_type": "code",
   "execution_count": 125,
   "metadata": {},
   "outputs": [],
   "source": [
    "import numpy as np\n",
    "from sklearn.model_selection import train_test_split\n",
    "from sklearn.metrics import mean_squared_error, r2_score\n",
    "from sklearn.linear_model import LinearRegression\n",
    "import matplotlib.pyplot as plt\n",
    "import pandas as pd\n"
   ]
  },
  {
   "cell_type": "code",
   "execution_count": 126,
   "metadata": {},
   "outputs": [],
   "source": [
    "df = pd.read_csv('data.csv')"
   ]
  },
  {
   "cell_type": "code",
   "execution_count": 127,
   "metadata": {},
   "outputs": [
    {
     "data": {
      "text/html": [
       "<div>\n",
       "<style scoped>\n",
       "    .dataframe tbody tr th:only-of-type {\n",
       "        vertical-align: middle;\n",
       "    }\n",
       "\n",
       "    .dataframe tbody tr th {\n",
       "        vertical-align: top;\n",
       "    }\n",
       "\n",
       "    .dataframe thead th {\n",
       "        text-align: right;\n",
       "    }\n",
       "</style>\n",
       "<table border=\"1\" class=\"dataframe\">\n",
       "  <thead>\n",
       "    <tr style=\"text-align: right;\">\n",
       "      <th></th>\n",
       "      <th>Площа</th>\n",
       "      <th>Кімнати</th>\n",
       "      <th>Відстань до центру</th>\n",
       "      <th>Ціна</th>\n",
       "    </tr>\n",
       "  </thead>\n",
       "  <tbody>\n",
       "    <tr>\n",
       "      <th>0</th>\n",
       "      <td>77.421052</td>\n",
       "      <td>4</td>\n",
       "      <td>16.771884</td>\n",
       "      <td>677.389182</td>\n",
       "    </tr>\n",
       "    <tr>\n",
       "      <th>1</th>\n",
       "      <td>182.115751</td>\n",
       "      <td>3</td>\n",
       "      <td>1.007327</td>\n",
       "      <td>1885.943577</td>\n",
       "    </tr>\n",
       "    <tr>\n",
       "      <th>2</th>\n",
       "      <td>187.313677</td>\n",
       "      <td>1</td>\n",
       "      <td>16.710900</td>\n",
       "      <td>1797.885572</td>\n",
       "    </tr>\n",
       "    <tr>\n",
       "      <th>3</th>\n",
       "      <td>153.485365</td>\n",
       "      <td>3</td>\n",
       "      <td>5.578008</td>\n",
       "      <td>1491.770811</td>\n",
       "    </tr>\n",
       "    <tr>\n",
       "      <th>4</th>\n",
       "      <td>86.249270</td>\n",
       "      <td>1</td>\n",
       "      <td>10.750272</td>\n",
       "      <td>717.524728</td>\n",
       "    </tr>\n",
       "  </tbody>\n",
       "</table>\n",
       "</div>"
      ],
      "text/plain": [
       "        Площа  Кімнати  Відстань до центру         Ціна\n",
       "0   77.421052        4           16.771884   677.389182\n",
       "1  182.115751        3            1.007327  1885.943577\n",
       "2  187.313677        1           16.710900  1797.885572\n",
       "3  153.485365        3            5.578008  1491.770811\n",
       "4   86.249270        1           10.750272   717.524728"
      ]
     },
     "execution_count": 127,
     "metadata": {},
     "output_type": "execute_result"
    }
   ],
   "source": [
    "df.head()"
   ]
  },
  {
   "cell_type": "code",
   "execution_count": 128,
   "metadata": {},
   "outputs": [
    {
     "name": "stdout",
     "output_type": "stream",
     "text": [
      "<class 'pandas.core.frame.DataFrame'>\n",
      "RangeIndex: 1000 entries, 0 to 999\n",
      "Data columns (total 4 columns):\n",
      " #   Column              Non-Null Count  Dtype  \n",
      "---  ------              --------------  -----  \n",
      " 0   Площа               1000 non-null   float64\n",
      " 1   Кімнати             1000 non-null   int64  \n",
      " 2   Відстань до центру  1000 non-null   float64\n",
      " 3   Ціна                1000 non-null   float64\n",
      "dtypes: float64(3), int64(1)\n",
      "memory usage: 31.4 KB\n"
     ]
    }
   ],
   "source": [
    "df.info()"
   ]
  },
  {
   "cell_type": "code",
   "execution_count": 129,
   "metadata": {},
   "outputs": [
    {
     "data": {
      "text/html": [
       "<div>\n",
       "<style scoped>\n",
       "    .dataframe tbody tr th:only-of-type {\n",
       "        vertical-align: middle;\n",
       "    }\n",
       "\n",
       "    .dataframe tbody tr th {\n",
       "        vertical-align: top;\n",
       "    }\n",
       "\n",
       "    .dataframe thead th {\n",
       "        text-align: right;\n",
       "    }\n",
       "</style>\n",
       "<table border=\"1\" class=\"dataframe\">\n",
       "  <thead>\n",
       "    <tr style=\"text-align: right;\">\n",
       "      <th></th>\n",
       "      <th>Площа</th>\n",
       "      <th>Кімнати</th>\n",
       "      <th>Відстань до центру</th>\n",
       "      <th>Ціна</th>\n",
       "    </tr>\n",
       "  </thead>\n",
       "  <tbody>\n",
       "    <tr>\n",
       "      <th>count</th>\n",
       "      <td>1000.000000</td>\n",
       "      <td>1000.000000</td>\n",
       "      <td>1000.000000</td>\n",
       "      <td>1000.000000</td>\n",
       "    </tr>\n",
       "    <tr>\n",
       "      <th>mean</th>\n",
       "      <td>126.047972</td>\n",
       "      <td>3.001000</td>\n",
       "      <td>10.342186</td>\n",
       "      <td>1255.279226</td>\n",
       "    </tr>\n",
       "    <tr>\n",
       "      <th>std</th>\n",
       "      <td>42.992305</td>\n",
       "      <td>1.415982</td>\n",
       "      <td>5.543682</td>\n",
       "      <td>442.747914</td>\n",
       "    </tr>\n",
       "    <tr>\n",
       "      <th>min</th>\n",
       "      <td>50.150057</td>\n",
       "      <td>1.000000</td>\n",
       "      <td>1.007327</td>\n",
       "      <td>333.719824</td>\n",
       "    </tr>\n",
       "    <tr>\n",
       "      <th>25%</th>\n",
       "      <td>88.733213</td>\n",
       "      <td>2.000000</td>\n",
       "      <td>5.279044</td>\n",
       "      <td>881.312868</td>\n",
       "    </tr>\n",
       "    <tr>\n",
       "      <th>50%</th>\n",
       "      <td>126.951726</td>\n",
       "      <td>3.000000</td>\n",
       "      <td>10.362972</td>\n",
       "      <td>1251.201444</td>\n",
       "    </tr>\n",
       "    <tr>\n",
       "      <th>75%</th>\n",
       "      <td>162.917435</td>\n",
       "      <td>4.000000</td>\n",
       "      <td>15.203398</td>\n",
       "      <td>1623.499084</td>\n",
       "    </tr>\n",
       "    <tr>\n",
       "      <th>max</th>\n",
       "      <td>199.962678</td>\n",
       "      <td>5.000000</td>\n",
       "      <td>19.998625</td>\n",
       "      <td>2120.421603</td>\n",
       "    </tr>\n",
       "  </tbody>\n",
       "</table>\n",
       "</div>"
      ],
      "text/plain": [
       "             Площа      Кімнати  Відстань до центру         Ціна\n",
       "count  1000.000000  1000.000000         1000.000000  1000.000000\n",
       "mean    126.047972     3.001000           10.342186  1255.279226\n",
       "std      42.992305     1.415982            5.543682   442.747914\n",
       "min      50.150057     1.000000            1.007327   333.719824\n",
       "25%      88.733213     2.000000            5.279044   881.312868\n",
       "50%     126.951726     3.000000           10.362972  1251.201444\n",
       "75%     162.917435     4.000000           15.203398  1623.499084\n",
       "max     199.962678     5.000000           19.998625  2120.421603"
      ]
     },
     "execution_count": 129,
     "metadata": {},
     "output_type": "execute_result"
    }
   ],
   "source": [
    "df.describe()"
   ]
  },
  {
   "cell_type": "code",
   "execution_count": 130,
   "metadata": {},
   "outputs": [],
   "source": [
    "X = df[['Площа', 'Кімнати', 'Відстань до центру']]\n",
    "y = df['Ціна']\n",
    "X_train, X_test, y_train, y_test = train_test_split(X, y, test_size=0.2, random_state=42)\n",
    "model = LinearRegression()\n",
    "model.fit(X_train, y_train)\n",
    "\n",
    "# Оцінка моделі на тестових даних\n",
    "y_pred = model.predict(X_test)"
   ]
  },
  {
   "cell_type": "code",
   "execution_count": 131,
   "metadata": {},
   "outputs": [
    {
     "name": "stdout",
     "output_type": "stream",
     "text": [
      "Root Mean Squared Error: 101.55534232781181\n",
      "R-squared: 0.9488020764498162\n"
     ]
    }
   ],
   "source": [
    "\n",
    "# Обчислення середньо-квадратичної помилки (MSE)\n",
    "mse = mean_squared_error(y_test, y_pred)\n",
    "rmse = mse ** 0.5\n",
    "# RMSE значно менший за стандартне відхилення, це свідчить про те, що ваша модель здатна значущо поліпшити прогнози порівняно з базовою моделлю.\n",
    "print(f'Root Mean Squared Error: {rmse}')\n",
    "\n",
    "# Обчислення R-squared\n",
    "r2 = r2_score(y_test, y_pred)\n",
    "print(f'R-squared: {r2}')\n"
   ]
  },
  {
   "cell_type": "code",
   "execution_count": 132,
   "metadata": {},
   "outputs": [],
   "source": [
    "\n",
    "plt.scatter(y_test, y_pred)\n",
    "plt.plot([min(y_test), max(y_test)], [min(y_test), max(y_test)], color='red', linestyle='--')\n",
    "plt.xlabel('Реальні дані')\n",
    "plt.ylabel('Прогнозовані дані')\n",
    "plt.title('Реальні дані vs. Прогнозовані дані')\n",
    "plt.savefig('my_plot.png')\n",
    "plt.close()\n"
   ]
  },
  {
   "cell_type": "markdown",
   "metadata": {},
   "source": [
    "## Звіт щодо якості моделі лінійної регресії\n",
    "\n",
    "Модель лінійної регресії була побудована для прогнозування ціни житла на основі ознак: \"Площа\", \"Кімнати\", та \"Відстань до центру\".\n",
    "\n",
    "### Основні результати:\n",
    "\n",
    "- **Root Mean Squared Error (RMSE):**\n",
    "  Наша модель показала RMSE рівний 101.56. Цей показник відображає середнє відхилення прогнозованих значень від реальних. Для контексту, стандартне відхилення ціни в датасеті становить 442.75. Це свідчить про те, що прогнози моделі значно точніші, ніж якби ми використовували простий середній прогноз.\n",
    "\n",
    "- **R-squared:**\n",
    "  Значення R-squared для моделі становить 0.9488, що означає, що приблизно 94.88% варіативності ціни може бути пояснено нашою моделлю. Це високий показник, який вказує на високу якість прогнозів моделі.\n",
    "\n",
    "### Візуалізація результатів:\n",
    "\n",
    "![Оцінка моделі](my_plot.png)\n",
    "\n",
    "Точки на графіку відображають відношення реальних (ось x) до прогнозованих (ось y) значень. Ідеальний прогноз був би представлений червоною пунктирною лінією y = x. Точки, які знаходяться близько до цієї лінії, вказують на точні прогнози, тоді як ті, що далеко від лінії, вказують на менш точні прогнози.\n"
   ]
  }
 ],
 "metadata": {
  "kernelspec": {
   "display_name": "ml2023",
   "language": "python",
   "name": "python3"
  },
  "language_info": {
   "codemirror_mode": {
    "name": "ipython",
    "version": 3
   },
   "file_extension": ".py",
   "mimetype": "text/x-python",
   "name": "python",
   "nbconvert_exporter": "python",
   "pygments_lexer": "ipython3",
   "version": "3.11.5"
  },
  "orig_nbformat": 4
 },
 "nbformat": 4,
 "nbformat_minor": 2
}
